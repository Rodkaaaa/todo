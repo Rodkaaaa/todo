{
 "cells": [
  {
   "cell_type": "code",
   "execution_count": 6,
   "id": "488f5074",
   "metadata": {},
   "outputs": [],
   "source": [
    "class Cuenta:\n",
    "    def __init__(self,numeroCuenta,nombreTitular,saldoInicial,tipoDeCuenta):\n",
    "        self.numeroCuenta=numeroCuenta\n",
    "        self.nombreTitular=nombreTitular\n",
    "        self.saldoInicial=saldoInicial\n",
    "        self.tipoDeCuenta=tipoDeCuenta\n",
    "        \n",
    "    def __str__(self):\n",
    "        return \"titular {}, Numero de cuenta {}, Tipo de cuenta {}, con saldo: {}\".format(self.nombreTitular,self.numeroCuenta,self.tipoDeCuenta,self.saldoInicial)\n",
    "    \n",
    "    def deposito(self,sd):\n",
    "        self.saldoInicial=self.saldoInicial+sd\n",
    "        return \"su saldo es: {}\".format(self.saldoInicial)\n",
    "    \n",
    "    def retiro(self,rs):\n",
    "        self.saldoInicial=self.saldoInicial-rs\n",
    "        return \"su saldo es: {}\".format(self.saldoInicial)\n",
    "    \n",
    "    def saldoInicial(self):\n",
    "        return \"su saldo es: {}\".format(self.saldoInicial)"
   ]
  },
  {
   "cell_type": "code",
   "execution_count": 7,
   "id": "59f5a19d",
   "metadata": {},
   "outputs": [],
   "source": [
    "p=Cuenta(123,\"erick\",0,\"rut\")"
   ]
  },
  {
   "cell_type": "code",
   "execution_count": 8,
   "id": "c7e6c7a9",
   "metadata": {},
   "outputs": [
    {
     "name": "stdout",
     "output_type": "stream",
     "text": [
      "nu123\n",
      "ntweon\n",
      "si0\n",
      "tccuentasandia\n"
     ]
    }
   ],
   "source": [
    "while True:\n",
    "    ajsdklgjakljflkasjgkljfklasjlkhjaklsdfjalkhjaslk;jfklajghklasjdfklajhklajsklfjafklhbjasl;kfjlkahjbl;aksjfglk\n"
   ]
  },
  {
   "cell_type": "code",
   "execution_count": 9,
   "id": "abd88d94",
   "metadata": {},
   "outputs": [],
   "source": [
    "danielQl = Cuenta(nc,nt,si,tc)"
   ]
  },
  {
   "cell_type": "code",
   "execution_count": 10,
   "id": "0f3a69f4",
   "metadata": {},
   "outputs": [
    {
     "name": "stdout",
     "output_type": "stream",
     "text": [
      "titular weon, Numero de cuenta 123, Tipo de cuenta cuentasandia, con saldo: 0\n"
     ]
    }
   ],
   "source": [
    "print(danielQl)"
   ]
  },
  {
   "cell_type": "code",
   "execution_count": null,
   "id": "85d9c7dd",
   "metadata": {},
   "outputs": [],
   "source": [
    "danielQl.deposito()"
   ]
  },
  {
   "cell_type": "code",
   "execution_count": 1,
   "id": "08d5f3f1",
   "metadata": {},
   "outputs": [
    {
     "ename": "ModuleNotFoundError",
     "evalue": "No module named 'Image'",
     "output_type": "error",
     "traceback": [
      "\u001b[1;31m---------------------------------------------------------------------------\u001b[0m",
      "\u001b[1;31mModuleNotFoundError\u001b[0m                       Traceback (most recent call last)",
      "File \u001b[1;32m~\\AppData\\Local\\Programs\\Python\\Python310\\lib\\site-packages\\qrcode\\image\\pil.py:5\u001b[0m\n\u001b[0;32m      4\u001b[0m \u001b[38;5;28;01mtry\u001b[39;00m:\n\u001b[1;32m----> 5\u001b[0m     \u001b[38;5;28;01mfrom\u001b[39;00m \u001b[38;5;21;01mPIL\u001b[39;00m \u001b[38;5;28;01mimport\u001b[39;00m Image, ImageDraw\n\u001b[0;32m      6\u001b[0m \u001b[38;5;28;01mexcept\u001b[39;00m \u001b[38;5;167;01mImportError\u001b[39;00m:  \u001b[38;5;66;03m# pragma: no cover\u001b[39;00m\n",
      "\u001b[1;31mModuleNotFoundError\u001b[0m: No module named 'PIL'",
      "\nDuring handling of the above exception, another exception occurred:\n",
      "\u001b[1;31mModuleNotFoundError\u001b[0m                       Traceback (most recent call last)",
      "Cell \u001b[1;32mIn [1], line 4\u001b[0m\n\u001b[0;32m      1\u001b[0m \u001b[38;5;28;01mimport\u001b[39;00m \u001b[38;5;21;01mqrcode\u001b[39;00m\n\u001b[0;32m      2\u001b[0m data \u001b[38;5;241m=\u001b[39m \u001b[38;5;124m'\u001b[39m\u001b[38;5;124mQR code using make() function\u001b[39m\u001b[38;5;124m'\u001b[39m\n\u001b[1;32m----> 4\u001b[0m img \u001b[38;5;241m=\u001b[39m qrcode\u001b[38;5;241m.\u001b[39mmake(data)\n\u001b[0;32m      6\u001b[0m img\u001b[38;5;241m.\u001b[39msave(\u001b[38;5;124m'\u001b[39m\u001b[38;5;124mMicodigoQR.png\u001b[39m\u001b[38;5;124m'\u001b[39m)\n",
      "File \u001b[1;32m~\\AppData\\Local\\Programs\\Python\\Python310\\lib\\site-packages\\qrcode\\main.py:13\u001b[0m, in \u001b[0;36mmake\u001b[1;34m(data, **kwargs)\u001b[0m\n\u001b[0;32m     11\u001b[0m qr \u001b[38;5;241m=\u001b[39m QRCode(\u001b[38;5;241m*\u001b[39m\u001b[38;5;241m*\u001b[39mkwargs)\n\u001b[0;32m     12\u001b[0m qr\u001b[38;5;241m.\u001b[39madd_data(data)\n\u001b[1;32m---> 13\u001b[0m \u001b[38;5;28;01mreturn\u001b[39;00m \u001b[43mqr\u001b[49m\u001b[38;5;241;43m.\u001b[39;49m\u001b[43mmake_image\u001b[49m\u001b[43m(\u001b[49m\u001b[43m)\u001b[49m\n",
      "File \u001b[1;32m~\\AppData\\Local\\Programs\\Python\\Python310\\lib\\site-packages\\qrcode\\main.py:296\u001b[0m, in \u001b[0;36mQRCode.make_image\u001b[1;34m(self, image_factory, **kwargs)\u001b[0m\n\u001b[0;32m    293\u001b[0m     image_factory \u001b[38;5;241m=\u001b[39m \u001b[38;5;28mself\u001b[39m\u001b[38;5;241m.\u001b[39mimage_factory\n\u001b[0;32m    294\u001b[0m     \u001b[38;5;28;01mif\u001b[39;00m image_factory \u001b[38;5;129;01mis\u001b[39;00m \u001b[38;5;28;01mNone\u001b[39;00m:\n\u001b[0;32m    295\u001b[0m         \u001b[38;5;66;03m# Use PIL by default\u001b[39;00m\n\u001b[1;32m--> 296\u001b[0m         \u001b[38;5;28;01mfrom\u001b[39;00m \u001b[38;5;21;01mqrcode\u001b[39;00m\u001b[38;5;21;01m.\u001b[39;00m\u001b[38;5;21;01mimage\u001b[39;00m\u001b[38;5;21;01m.\u001b[39;00m\u001b[38;5;21;01mpil\u001b[39;00m \u001b[38;5;28;01mimport\u001b[39;00m PilImage\n\u001b[0;32m    297\u001b[0m         image_factory \u001b[38;5;241m=\u001b[39m PilImage\n\u001b[0;32m    299\u001b[0m im \u001b[38;5;241m=\u001b[39m image_factory(\n\u001b[0;32m    300\u001b[0m     \u001b[38;5;28mself\u001b[39m\u001b[38;5;241m.\u001b[39mborder, \u001b[38;5;28mself\u001b[39m\u001b[38;5;241m.\u001b[39mmodules_count, \u001b[38;5;28mself\u001b[39m\u001b[38;5;241m.\u001b[39mbox_size, \u001b[38;5;241m*\u001b[39m\u001b[38;5;241m*\u001b[39mkwargs)\n",
      "File \u001b[1;32m~\\AppData\\Local\\Programs\\Python\\Python310\\lib\\site-packages\\qrcode\\image\\pil.py:7\u001b[0m\n\u001b[0;32m      5\u001b[0m     \u001b[38;5;28;01mfrom\u001b[39;00m \u001b[38;5;21;01mPIL\u001b[39;00m \u001b[38;5;28;01mimport\u001b[39;00m Image, ImageDraw\n\u001b[0;32m      6\u001b[0m \u001b[38;5;28;01mexcept\u001b[39;00m \u001b[38;5;167;01mImportError\u001b[39;00m:  \u001b[38;5;66;03m# pragma: no cover\u001b[39;00m\n\u001b[1;32m----> 7\u001b[0m     \u001b[38;5;28;01mimport\u001b[39;00m \u001b[38;5;21;01mImage\u001b[39;00m\n\u001b[0;32m      8\u001b[0m     \u001b[38;5;28;01mimport\u001b[39;00m \u001b[38;5;21;01mImageDraw\u001b[39;00m\n\u001b[0;32m     10\u001b[0m \u001b[38;5;28;01mimport\u001b[39;00m \u001b[38;5;21;01mqrcode\u001b[39;00m\u001b[38;5;21;01m.\u001b[39;00m\u001b[38;5;21;01mimage\u001b[39;00m\u001b[38;5;21;01m.\u001b[39;00m\u001b[38;5;21;01mbase\u001b[39;00m\n",
      "\u001b[1;31mModuleNotFoundError\u001b[0m: No module named 'Image'"
     ]
    }
   ],
   "source": [
    "import qrcode\n",
    "data = 'QR code using make() function'\n",
    "\n",
    "img = qrcode.make(data)\n",
    "\n",
    "img.save('MicodigoQR.png')"
   ]
  },
  {
   "cell_type": "code",
   "execution_count": 7,
   "id": "1b903eec",
   "metadata": {},
   "outputs": [],
   "source": [
    "def sumarRev(num):\n",
    "    if num == 1:\n",
    "        return 1\n",
    "    else:\n",
    "        return num - sumarRev(num-1)"
   ]
  },
  {
   "cell_type": "code",
   "execution_count": 8,
   "id": "3bd04327",
   "metadata": {},
   "outputs": [
    {
     "data": {
      "text/plain": [
       "3"
      ]
     },
     "execution_count": 8,
     "metadata": {},
     "output_type": "execute_result"
    }
   ],
   "source": [
    "sumarRev(5)"
   ]
  },
  {
   "cell_type": "code",
   "execution_count": null,
   "id": "56aaf5f3",
   "metadata": {},
   "outputs": [],
   "source": []
  }
 ],
 "metadata": {
  "kernelspec": {
   "display_name": "Python 3 (ipykernel)",
   "language": "python",
   "name": "python3"
  },
  "language_info": {
   "codemirror_mode": {
    "name": "ipython",
    "version": 3
   },
   "file_extension": ".py",
   "mimetype": "text/x-python",
   "name": "python",
   "nbconvert_exporter": "python",
   "pygments_lexer": "ipython3",
   "version": "3.10.7"
  }
 },
 "nbformat": 4,
 "nbformat_minor": 5
}
