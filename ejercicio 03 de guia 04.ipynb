{
 "cells": [
  {
   "cell_type": "code",
   "execution_count": null,
   "id": "93fbecd6",
   "metadata": {},
   "outputs": [],
   "source": [
    "#rear una clase llamada “cuenta”. Al instanciar la clase se debe proveer el número de \n",
    "#cuenta, el nombre el titular, saldo inicial, tipo cuenta (ahorro, corriente, inversiones). Crear \n",
    "#tres métodos depositar, retirar, obtener balance. Si en la cuenta1 hay un saldo inicial de \n",
    "#10 y se hace un depósito de 20 y un retiro de 5, entonces al obtener el balance debe \n",
    "#mostrar un saldo de 25. Imprimir la información con todos los datos de usuarios y \n",
    "#balances."
   ]
  },
  {
   "cell_type": "code",
   "execution_count": 10,
   "id": "171f5989",
   "metadata": {},
   "outputs": [],
   "source": [
    "\n",
    "class Cuenta:\n",
    "    def __init__(self, numeroCuenta,nombreTitular, saldoInicial,tipoDeCuenta):\n",
    "        self.numeroCuenta=numeroCuenta\n",
    "        self.nombreTitular=nombreTitular\n",
    "        self.saldoInicial=saldoInicial\n",
    "        self.tipoDeCuenta=tipoDeCuenta\n",
    "        print(\"se creo una cuenta.\")\n",
    "        \n",
    "    def __str__(self):\n",
    "        return \"titular {}, Numero de cuenta {}, Tipo de cuenta {}, con saldo: {}\".format(self.nombreTitular,self.numeroCuenta,self.tipoDeCuenta,self.saldoInicial)\n",
    "    \n",
    "    def deposito(self,sd):\n",
    "        self.saldoInicial=self.saldoInicial+sd\n",
    "        return \"su saldo es: {}\".format(self.saldoInicial)\n",
    "    \n",
    "    def retiro(self,rs):\n",
    "        self.saldoInicial=self.saldoInicial-rs\n",
    "        return \"su saldo es: {}\".format(self.saldoInicial)\n",
    "    \n",
    "    def saldoInicial(self):\n",
    "        return \"su saldo es: {}\".format(self.saldoInicial)\n",
    "    "
   ]
  },
  {
   "cell_type": "code",
   "execution_count": 5,
   "id": "4096e752",
   "metadata": {},
   "outputs": [
    {
     "name": "stdout",
     "output_type": "stream",
     "text": [
      "se creo una cuenta.\n"
     ]
    }
   ],
   "source": [
    "p = Cuenta( 1, \"erick\", 1000, \"cuenta rut\")"
   ]
  },
  {
   "cell_type": "code",
   "execution_count": 6,
   "id": "7236946b",
   "metadata": {},
   "outputs": [
    {
     "name": "stdout",
     "output_type": "stream",
     "text": [
      "se creo una cuenta.\n"
     ]
    }
   ],
   "source": [
    "p2 = Cuenta(2,\"sandia\",0,\"cuentasadia\")"
   ]
  },
  {
   "cell_type": "code",
   "execution_count": 10,
   "id": "de0b9db0",
   "metadata": {},
   "outputs": [
    {
     "name": "stdout",
     "output_type": "stream",
     "text": [
      "n cuenta586876\n",
      "nombrefreddy\n",
      "tiporut\n",
      "se creo una cuenta.\n"
     ]
    }
   ],
   "source": [
    "nc=input('n cuenta')\n",
    "nt=input('nombre')\n",
    "si = 0\n",
    "tc=input('tipo')\n",
    "p2=Cuenta(nc,nt,si,tc)"
   ]
  },
  {
   "cell_type": "code",
   "execution_count": 7,
   "id": "d4ddc993",
   "metadata": {},
   "outputs": [
    {
     "name": "stdout",
     "output_type": "stream",
     "text": [
      "titular sandia, Numero de cuenta 2, Tipo de cuenta cuentasadia, con saldo: 0\n"
     ]
    }
   ],
   "source": [
    "print(p2)"
   ]
  },
  {
   "cell_type": "code",
   "execution_count": 15,
   "id": "8684f0d9",
   "metadata": {},
   "outputs": [
    {
     "data": {
      "text/plain": [
       "'su saldo es: 3000'"
      ]
     },
     "execution_count": 15,
     "metadata": {},
     "output_type": "execute_result"
    }
   ],
   "source": [
    "p2.deposito(1000)"
   ]
  },
  {
   "cell_type": "code",
   "execution_count": 18,
   "id": "8678b983",
   "metadata": {},
   "outputs": [
    {
     "data": {
      "text/plain": [
       "'su saldo es: 0'"
      ]
     },
     "execution_count": 18,
     "metadata": {},
     "output_type": "execute_result"
    }
   ],
   "source": [
    "p2.retiro(1000)"
   ]
  },
  {
   "cell_type": "code",
   "execution_count": 63,
   "id": "a8a4a05d",
   "metadata": {},
   "outputs": [
    {
     "data": {
      "text/plain": [
       "0"
      ]
     },
     "execution_count": 63,
     "metadata": {},
     "output_type": "execute_result"
    }
   ],
   "source": [
    "p.saldoInicial"
   ]
  },
  {
   "cell_type": "code",
   "execution_count": 19,
   "id": "09fbe2cd",
   "metadata": {},
   "outputs": [
    {
     "data": {
      "text/plain": [
       "1000"
      ]
     },
     "execution_count": 19,
     "metadata": {},
     "output_type": "execute_result"
    }
   ],
   "source": [
    "p2.saldoInicial + 1000"
   ]
  },
  {
   "cell_type": "code",
   "execution_count": 20,
   "id": "a0e3d0b1",
   "metadata": {},
   "outputs": [
    {
     "data": {
      "text/plain": [
       "0"
      ]
     },
     "execution_count": 20,
     "metadata": {},
     "output_type": "execute_result"
    }
   ],
   "source": [
    "p2.saldoInicial"
   ]
  },
  {
   "cell_type": "code",
   "execution_count": 30,
   "id": "c9e1d7dc",
   "metadata": {},
   "outputs": [],
   "source": [
    "class Persona:\n",
    "    def __init__(self, nombre, edad, nacionalidad):\n",
    "        self.nombre=nombre\n",
    "        self.edad=edad\n",
    "        self.nacionalidad=nacionalidad\n",
    "    def __str__(self):\n",
    "        return \"{}, edad: {}, {}\".format(self.nombre, self.edad, self.nacionalidad)\n",
    "\n",
    "    "
   ]
  },
  {
   "cell_type": "code",
   "execution_count": 31,
   "id": "f7feb738",
   "metadata": {},
   "outputs": [
    {
     "name": "stdout",
     "output_type": "stream",
     "text": [
      "freddy, edad: 27, chileno\n"
     ]
    }
   ],
   "source": [
    "p= Persona(\"freddy\", 27, \"chileno\" )\n",
    "print(p)"
   ]
  },
  {
   "cell_type": "code",
   "execution_count": 8,
   "id": "e206d9f9",
   "metadata": {},
   "outputs": [],
   "source": [
    "def saldoInicial(objeto):\n",
    "        return \"su saldo es: {}\".format(objeto.saldoInicial)"
   ]
  },
  {
   "cell_type": "code",
   "execution_count": 9,
   "id": "89b89c45",
   "metadata": {},
   "outputs": [
    {
     "data": {
      "text/plain": [
       "'su saldo es: 0'"
      ]
     },
     "execution_count": 9,
     "metadata": {},
     "output_type": "execute_result"
    }
   ],
   "source": [
    "saldoInicial(p2)"
   ]
  },
  {
   "cell_type": "code",
   "execution_count": 11,
   "id": "6270c4bd",
   "metadata": {},
   "outputs": [
    {
     "data": {
      "text/plain": [
       "0"
      ]
     },
     "execution_count": 11,
     "metadata": {},
     "output_type": "execute_result"
    }
   ],
   "source": [
    "p2.saldoInicial"
   ]
  },
  {
   "cell_type": "code",
   "execution_count": null,
   "id": "a3049379",
   "metadata": {},
   "outputs": [],
   "source": []
  }
 ],
 "metadata": {
  "kernelspec": {
   "display_name": "Python 3 (ipykernel)",
   "language": "python",
   "name": "python3"
  },
  "language_info": {
   "codemirror_mode": {
    "name": "ipython",
    "version": 3
   },
   "file_extension": ".py",
   "mimetype": "text/x-python",
   "name": "python",
   "nbconvert_exporter": "python",
   "pygments_lexer": "ipython3",
   "version": "3.10.7"
  }
 },
 "nbformat": 4,
 "nbformat_minor": 5
}
